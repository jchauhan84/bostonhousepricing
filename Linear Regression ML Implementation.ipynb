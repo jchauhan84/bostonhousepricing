{
 "cells": [
  {
   "cell_type": "code",
   "execution_count": 1,
   "id": "b52c0236",
   "metadata": {},
   "outputs": [],
   "source": [
    "#import Required Libraries\n",
    "import pandas as pd\n",
    "import numpy as np\n",
    "import matplotlib.pyplot as plt\n",
    "%matplotlib inline"
   ]
  },
  {
   "cell_type": "markdown",
   "id": "6c33ccfa",
   "metadata": {},
   "source": [
    "## Loading the datasets"
   ]
  },
  {
   "cell_type": "code",
   "execution_count": 2,
   "id": "11fb8d12",
   "metadata": {},
   "outputs": [],
   "source": [
    "from sklearn.datasets import load_boston"
   ]
  },
  {
   "cell_type": "code",
   "execution_count": 3,
   "id": "5c6f78b5",
   "metadata": {},
   "outputs": [
    {
     "name": "stderr",
     "output_type": "stream",
     "text": [
      "c:\\Users\\Jagmohan.Chauhan\\endtoendMLProjects\\bostonhousepricing\\venv\\lib\\site-packages\\sklearn\\utils\\deprecation.py:87: FutureWarning: Function load_boston is deprecated; `load_boston` is deprecated in 1.0 and will be removed in 1.2.\n",
      "\n",
      "    The Boston housing prices dataset has an ethical problem. You can refer to\n",
      "    the documentation of this function for further details.\n",
      "\n",
      "    The scikit-learn maintainers therefore strongly discourage the use of this\n",
      "    dataset unless the purpose of the code is to study and educate about\n",
      "    ethical issues in data science and machine learning.\n",
      "\n",
      "    In this special case, you can fetch the dataset from the original\n",
      "    source::\n",
      "\n",
      "        import pandas as pd\n",
      "        import numpy as np\n",
      "\n",
      "\n",
      "        data_url = \"http://lib.stat.cmu.edu/datasets/boston\"\n",
      "        raw_df = pd.read_csv(data_url, sep=\"\\s+\", skiprows=22, header=None)\n",
      "        data = np.hstack([raw_df.values[::2, :], raw_df.values[1::2, :2]])\n",
      "        target = raw_df.values[1::2, 2]\n",
      "\n",
      "    Alternative datasets include the California housing dataset (i.e.\n",
      "    :func:`~sklearn.datasets.fetch_california_housing`) and the Ames housing\n",
      "    dataset. You can load the datasets as follows::\n",
      "\n",
      "        from sklearn.datasets import fetch_california_housing\n",
      "        housing = fetch_california_housing()\n",
      "\n",
      "    for the California housing dataset and::\n",
      "\n",
      "        from sklearn.datasets import fetch_openml\n",
      "        housing = fetch_openml(name=\"house_prices\", as_frame=True)\n",
      "\n",
      "    for the Ames housing dataset.\n",
      "    \n",
      "  warnings.warn(msg, category=FutureWarning)\n"
     ]
    }
   ],
   "source": [
    "boston = load_boston()"
   ]
  },
  {
   "cell_type": "code",
   "execution_count": 4,
   "id": "92b2698a",
   "metadata": {},
   "outputs": [
    {
     "data": {
      "text/plain": [
       "sklearn.utils.Bunch"
      ]
     },
     "execution_count": 4,
     "metadata": {},
     "output_type": "execute_result"
    }
   ],
   "source": [
    "type(boston)"
   ]
  },
  {
   "cell_type": "code",
   "execution_count": 5,
   "id": "4e7a93ed",
   "metadata": {},
   "outputs": [
    {
     "data": {
      "text/plain": [
       "dict_keys(['data', 'target', 'feature_names', 'DESCR', 'filename', 'data_module'])"
      ]
     },
     "execution_count": 5,
     "metadata": {},
     "output_type": "execute_result"
    }
   ],
   "source": [
    "boston.keys()"
   ]
  },
  {
   "cell_type": "markdown",
   "id": "d254ea7e",
   "metadata": {},
   "source": [
    "## Checking the description of datasets"
   ]
  },
  {
   "cell_type": "code",
   "execution_count": null,
   "id": "453ce8ed",
   "metadata": {},
   "outputs": [
    {
     "ename": "",
     "evalue": "",
     "output_type": "error",
     "traceback": [
      "\u001b[1;31mRunning cells with 'c:\\Users\\Jagmohan.Chauhan\\endtoendMLProjects\\bostonhousepricing\\venv\\python.exe' requires the ipykernel package.\n",
      "\u001b[1;31mRun the following command to install 'ipykernel' into the Python environment. \n",
      "\u001b[1;31mCommand: 'conda install -p c:\\Users\\Jagmohan.Chauhan\\endtoendMLProjects\\bostonhousepricing\\venv ipykernel --update-deps --force-reinstall'"
     ]
    }
   ],
   "source": [
    "print(boston.DESCR)"
   ]
  },
  {
   "cell_type": "markdown",
   "id": "1c229022",
   "metadata": {},
   "source": [
    "## Preparation of datasets"
   ]
  },
  {
   "cell_type": "code",
   "execution_count": null,
   "id": "e164d633",
   "metadata": {},
   "outputs": [
    {
     "ename": "",
     "evalue": "",
     "output_type": "error",
     "traceback": [
      "\u001b[1;31mRunning cells with 'c:\\Users\\Jagmohan.Chauhan\\endtoendMLProjects\\bostonhousepricing\\venv\\python.exe' requires the ipykernel package.\n",
      "\u001b[1;31mRun the following command to install 'ipykernel' into the Python environment. \n",
      "\u001b[1;31mCommand: 'conda install -p c:\\Users\\Jagmohan.Chauhan\\endtoendMLProjects\\bostonhousepricing\\venv ipykernel --update-deps --force-reinstall'"
     ]
    }
   ],
   "source": [
    "dataset=pd.DataFrame(boston.data,columns=boston.feature_names)"
   ]
  },
  {
   "cell_type": "code",
   "execution_count": null,
   "id": "e9941b66",
   "metadata": {},
   "outputs": [
    {
     "ename": "",
     "evalue": "",
     "output_type": "error",
     "traceback": [
      "\u001b[1;31mRunning cells with 'c:\\Users\\Jagmohan.Chauhan\\endtoendMLProjects\\bostonhousepricing\\venv\\python.exe' requires the ipykernel package.\n",
      "\u001b[1;31mRun the following command to install 'ipykernel' into the Python environment. \n",
      "\u001b[1;31mCommand: 'conda install -p c:\\Users\\Jagmohan.Chauhan\\endtoendMLProjects\\bostonhousepricing\\venv ipykernel --update-deps --force-reinstall'"
     ]
    }
   ],
   "source": [
    "dataset.head()"
   ]
  },
  {
   "cell_type": "markdown",
   "id": "245d4e26",
   "metadata": {},
   "source": [
    "## Defining the target"
   ]
  },
  {
   "cell_type": "code",
   "execution_count": null,
   "id": "de5b1e1b",
   "metadata": {},
   "outputs": [
    {
     "ename": "",
     "evalue": "",
     "output_type": "error",
     "traceback": [
      "\u001b[1;31mRunning cells with 'c:\\Users\\Jagmohan.Chauhan\\endtoendMLProjects\\bostonhousepricing\\venv\\python.exe' requires the ipykernel package.\n",
      "\u001b[1;31mRun the following command to install 'ipykernel' into the Python environment. \n",
      "\u001b[1;31mCommand: 'conda install -p c:\\Users\\Jagmohan.Chauhan\\endtoendMLProjects\\bostonhousepricing\\venv ipykernel --update-deps --force-reinstall'"
     ]
    }
   ],
   "source": [
    "dataset['Price']=boston.target"
   ]
  },
  {
   "cell_type": "code",
   "execution_count": null,
   "id": "3fcdaa75",
   "metadata": {},
   "outputs": [
    {
     "ename": "",
     "evalue": "",
     "output_type": "error",
     "traceback": [
      "\u001b[1;31mRunning cells with 'c:\\Users\\Jagmohan.Chauhan\\endtoendMLProjects\\bostonhousepricing\\venv\\python.exe' requires the ipykernel package.\n",
      "\u001b[1;31mRun the following command to install 'ipykernel' into the Python environment. \n",
      "\u001b[1;31mCommand: 'conda install -p c:\\Users\\Jagmohan.Chauhan\\endtoendMLProjects\\bostonhousepricing\\venv ipykernel --update-deps --force-reinstall'"
     ]
    }
   ],
   "source": [
    "dataset.head()"
   ]
  },
  {
   "cell_type": "code",
   "execution_count": null,
   "id": "67ad68f6",
   "metadata": {},
   "outputs": [
    {
     "ename": "",
     "evalue": "",
     "output_type": "error",
     "traceback": [
      "\u001b[1;31mRunning cells with 'c:\\Users\\Jagmohan.Chauhan\\endtoendMLProjects\\bostonhousepricing\\venv\\python.exe' requires the ipykernel package.\n",
      "\u001b[1;31mRun the following command to install 'ipykernel' into the Python environment. \n",
      "\u001b[1;31mCommand: 'conda install -p c:\\Users\\Jagmohan.Chauhan\\endtoendMLProjects\\bostonhousepricing\\venv ipykernel --update-deps --force-reinstall'"
     ]
    }
   ],
   "source": [
    "dataset.info()"
   ]
  },
  {
   "cell_type": "code",
   "execution_count": null,
   "id": "1f07a449",
   "metadata": {},
   "outputs": [
    {
     "ename": "",
     "evalue": "",
     "output_type": "error",
     "traceback": [
      "\u001b[1;31mRunning cells with 'c:\\Users\\Jagmohan.Chauhan\\endtoendMLProjects\\bostonhousepricing\\venv\\python.exe' requires the ipykernel package.\n",
      "\u001b[1;31mRun the following command to install 'ipykernel' into the Python environment. \n",
      "\u001b[1;31mCommand: 'conda install -p c:\\Users\\Jagmohan.Chauhan\\endtoendMLProjects\\bostonhousepricing\\venv ipykernel --update-deps --force-reinstall'"
     ]
    }
   ],
   "source": [
    "## Summarizing The Stats of the data\n",
    "dataset.describe()"
   ]
  },
  {
   "cell_type": "code",
   "execution_count": null,
   "id": "9d7f03f4",
   "metadata": {},
   "outputs": [
    {
     "ename": "",
     "evalue": "",
     "output_type": "error",
     "traceback": [
      "\u001b[1;31mRunning cells with 'c:\\Users\\Jagmohan.Chauhan\\endtoendMLProjects\\bostonhousepricing\\venv\\python.exe' requires the ipykernel package.\n",
      "\u001b[1;31mRun the following command to install 'ipykernel' into the Python environment. \n",
      "\u001b[1;31mCommand: 'conda install -p c:\\Users\\Jagmohan.Chauhan\\endtoendMLProjects\\bostonhousepricing\\venv ipykernel --update-deps --force-reinstall'"
     ]
    }
   ],
   "source": [
    "## Check the missing Values\n",
    "dataset.isnull().sum()"
   ]
  },
  {
   "cell_type": "code",
   "execution_count": null,
   "id": "377565cd",
   "metadata": {},
   "outputs": [
    {
     "ename": "",
     "evalue": "",
     "output_type": "error",
     "traceback": [
      "\u001b[1;31mRunning cells with 'c:\\Users\\Jagmohan.Chauhan\\endtoendMLProjects\\bostonhousepricing\\venv\\python.exe' requires the ipykernel package.\n",
      "\u001b[1;31mRun the following command to install 'ipykernel' into the Python environment. \n",
      "\u001b[1;31mCommand: 'conda install -p c:\\Users\\Jagmohan.Chauhan\\endtoendMLProjects\\bostonhousepricing\\venv ipykernel --update-deps --force-reinstall'"
     ]
    }
   ],
   "source": [
    "### EXploratory Data Analysis\n",
    "## Correlation\n",
    "dataset.corr()"
   ]
  },
  {
   "cell_type": "code",
   "execution_count": null,
   "id": "3578d49b",
   "metadata": {},
   "outputs": [
    {
     "ename": "",
     "evalue": "",
     "output_type": "error",
     "traceback": [
      "\u001b[1;31mRunning cells with 'c:\\Users\\Jagmohan.Chauhan\\endtoendMLProjects\\bostonhousepricing\\venv\\python.exe' requires the ipykernel package.\n",
      "\u001b[1;31mRun the following command to install 'ipykernel' into the Python environment. \n",
      "\u001b[1;31mCommand: 'conda install -p c:\\Users\\Jagmohan.Chauhan\\endtoendMLProjects\\bostonhousepricing\\venv ipykernel --update-deps --force-reinstall'"
     ]
    }
   ],
   "source": [
    "import seaborn as sns\n",
    "sns.pairplot(dataset)"
   ]
  },
  {
   "cell_type": "code",
   "execution_count": null,
   "id": "c32a7cfa",
   "metadata": {},
   "outputs": [
    {
     "ename": "",
     "evalue": "",
     "output_type": "error",
     "traceback": [
      "\u001b[1;31mRunning cells with 'c:\\Users\\Jagmohan.Chauhan\\endtoendMLProjects\\bostonhousepricing\\venv\\python.exe' requires the ipykernel package.\n",
      "\u001b[1;31mRun the following command to install 'ipykernel' into the Python environment. \n",
      "\u001b[1;31mCommand: 'conda install -p c:\\Users\\Jagmohan.Chauhan\\endtoendMLProjects\\bostonhousepricing\\venv ipykernel --update-deps --force-reinstall'"
     ]
    }
   ],
   "source": [
    "dataset.corr()"
   ]
  },
  {
   "cell_type": "markdown",
   "id": "53afc966",
   "metadata": {},
   "source": [
    "## Insights:\n",
    "### As we can see above that correlation between feature: CRIM and target: Price is -vely correlated and it is clear that if the crime rate in the area will increase then the price will decrease"
   ]
  },
  {
   "cell_type": "code",
   "execution_count": null,
   "id": "5f6dd447",
   "metadata": {},
   "outputs": [
    {
     "ename": "",
     "evalue": "",
     "output_type": "error",
     "traceback": [
      "\u001b[1;31mRunning cells with 'c:\\Users\\Jagmohan.Chauhan\\endtoendMLProjects\\bostonhousepricing\\venv\\python.exe' requires the ipykernel package.\n",
      "\u001b[1;31mRun the following command to install 'ipykernel' into the Python environment. \n",
      "\u001b[1;31mCommand: 'conda install -p c:\\Users\\Jagmohan.Chauhan\\endtoendMLProjects\\bostonhousepricing\\venv ipykernel --update-deps --force-reinstall'"
     ]
    }
   ],
   "source": [
    "plt.scatter(dataset['CRIM'],dataset['Price'])\n",
    "plt.xlabel(\"Crime Rate\")\n",
    "plt.ylabel(\"Price\")"
   ]
  },
  {
   "cell_type": "code",
   "execution_count": null,
   "id": "cef85308",
   "metadata": {},
   "outputs": [
    {
     "ename": "",
     "evalue": "",
     "output_type": "error",
     "traceback": [
      "\u001b[1;31mRunning cells with 'c:\\Users\\Jagmohan.Chauhan\\endtoendMLProjects\\bostonhousepricing\\venv\\python.exe' requires the ipykernel package.\n",
      "\u001b[1;31mRun the following command to install 'ipykernel' into the Python environment. \n",
      "\u001b[1;31mCommand: 'conda install -p c:\\Users\\Jagmohan.Chauhan\\endtoendMLProjects\\bostonhousepricing\\venv ipykernel --update-deps --force-reinstall'"
     ]
    }
   ],
   "source": [
    "plt.scatter(dataset['RM'],dataset['Price'])\n",
    "plt.xlabel(\"Rooms(Avg.\")\n",
    "plt.ylabel(\"Price\")"
   ]
  },
  {
   "cell_type": "code",
   "execution_count": null,
   "id": "3a2259be",
   "metadata": {},
   "outputs": [
    {
     "ename": "",
     "evalue": "",
     "output_type": "error",
     "traceback": [
      "\u001b[1;31mRunning cells with 'c:\\Users\\Jagmohan.Chauhan\\endtoendMLProjects\\bostonhousepricing\\venv\\python.exe' requires the ipykernel package.\n",
      "\u001b[1;31mRun the following command to install 'ipykernel' into the Python environment. \n",
      "\u001b[1;31mCommand: 'conda install -p c:\\Users\\Jagmohan.Chauhan\\endtoendMLProjects\\bostonhousepricing\\venv ipykernel --update-deps --force-reinstall'"
     ]
    }
   ],
   "source": [
    "import seaborn as sns\n",
    "sns.regplot(dataset['RM'],dataset['Price'])\n",
    "plt.xlabel(\"Rooms(Avg.\")\n",
    "plt.ylabel(\"Price\")"
   ]
  },
  {
   "cell_type": "code",
   "execution_count": null,
   "id": "5188ddb6",
   "metadata": {},
   "outputs": [
    {
     "ename": "",
     "evalue": "",
     "output_type": "error",
     "traceback": [
      "\u001b[1;31mRunning cells with 'c:\\Users\\Jagmohan.Chauhan\\endtoendMLProjects\\bostonhousepricing\\venv\\python.exe' requires the ipykernel package.\n",
      "\u001b[1;31mRun the following command to install 'ipykernel' into the Python environment. \n",
      "\u001b[1;31mCommand: 'conda install -p c:\\Users\\Jagmohan.Chauhan\\endtoendMLProjects\\bostonhousepricing\\venv ipykernel --update-deps --force-reinstall'"
     ]
    }
   ],
   "source": [
    "sns.regplot(x='LSTAT',y='Price',data=dataset)"
   ]
  },
  {
   "cell_type": "code",
   "execution_count": null,
   "id": "111e74d1",
   "metadata": {},
   "outputs": [
    {
     "ename": "",
     "evalue": "",
     "output_type": "error",
     "traceback": [
      "\u001b[1;31mRunning cells with 'c:\\Users\\Jagmohan.Chauhan\\endtoendMLProjects\\bostonhousepricing\\venv\\python.exe' requires the ipykernel package.\n",
      "\u001b[1;31mRun the following command to install 'ipykernel' into the Python environment. \n",
      "\u001b[1;31mCommand: 'conda install -p c:\\Users\\Jagmohan.Chauhan\\endtoendMLProjects\\bostonhousepricing\\venv ipykernel --update-deps --force-reinstall'"
     ]
    }
   ],
   "source": [
    "sns.regplot(x=\"CHAS\",y=\"Price\",data=dataset)"
   ]
  },
  {
   "cell_type": "code",
   "execution_count": null,
   "id": "a4f43d39",
   "metadata": {},
   "outputs": [
    {
     "ename": "",
     "evalue": "",
     "output_type": "error",
     "traceback": [
      "\u001b[1;31mRunning cells with 'c:\\Users\\Jagmohan.Chauhan\\endtoendMLProjects\\bostonhousepricing\\venv\\python.exe' requires the ipykernel package.\n",
      "\u001b[1;31mRun the following command to install 'ipykernel' into the Python environment. \n",
      "\u001b[1;31mCommand: 'conda install -p c:\\Users\\Jagmohan.Chauhan\\endtoendMLProjects\\bostonhousepricing\\venv ipykernel --update-deps --force-reinstall'"
     ]
    }
   ],
   "source": [
    "sns.regplot(x=\"PTRATIO\",y=\"Price\",data=dataset)"
   ]
  },
  {
   "cell_type": "code",
   "execution_count": null,
   "id": "59c3d054",
   "metadata": {},
   "outputs": [
    {
     "ename": "",
     "evalue": "",
     "output_type": "error",
     "traceback": [
      "\u001b[1;31mRunning cells with 'c:\\Users\\Jagmohan.Chauhan\\endtoendMLProjects\\bostonhousepricing\\venv\\python.exe' requires the ipykernel package.\n",
      "\u001b[1;31mRun the following command to install 'ipykernel' into the Python environment. \n",
      "\u001b[1;31mCommand: 'conda install -p c:\\Users\\Jagmohan.Chauhan\\endtoendMLProjects\\bostonhousepricing\\venv ipykernel --update-deps --force-reinstall'"
     ]
    }
   ],
   "source": [
    "## Independent and Dependent features\n",
    "\n",
    "X=dataset.iloc[:,:-1]\n",
    "y=dataset.iloc[:,-1]"
   ]
  },
  {
   "cell_type": "code",
   "execution_count": null,
   "id": "9f9aa689",
   "metadata": {},
   "outputs": [
    {
     "ename": "",
     "evalue": "",
     "output_type": "error",
     "traceback": [
      "\u001b[1;31mRunning cells with 'c:\\Users\\Jagmohan.Chauhan\\endtoendMLProjects\\bostonhousepricing\\venv\\python.exe' requires the ipykernel package.\n",
      "\u001b[1;31mRun the following command to install 'ipykernel' into the Python environment. \n",
      "\u001b[1;31mCommand: 'conda install -p c:\\Users\\Jagmohan.Chauhan\\endtoendMLProjects\\bostonhousepricing\\venv ipykernel --update-deps --force-reinstall'"
     ]
    }
   ],
   "source": [
    "X.head()"
   ]
  },
  {
   "cell_type": "code",
   "execution_count": null,
   "id": "e8c2638d",
   "metadata": {},
   "outputs": [
    {
     "ename": "",
     "evalue": "",
     "output_type": "error",
     "traceback": [
      "\u001b[1;31mRunning cells with 'c:\\Users\\Jagmohan.Chauhan\\endtoendMLProjects\\bostonhousepricing\\venv\\python.exe' requires the ipykernel package.\n",
      "\u001b[1;31mRun the following command to install 'ipykernel' into the Python environment. \n",
      "\u001b[1;31mCommand: 'conda install -p c:\\Users\\Jagmohan.Chauhan\\endtoendMLProjects\\bostonhousepricing\\venv ipykernel --update-deps --force-reinstall'"
     ]
    }
   ],
   "source": [
    "y.head()"
   ]
  },
  {
   "cell_type": "code",
   "execution_count": null,
   "id": "145abc76",
   "metadata": {},
   "outputs": [
    {
     "ename": "",
     "evalue": "",
     "output_type": "error",
     "traceback": [
      "\u001b[1;31mRunning cells with 'c:\\Users\\Jagmohan.Chauhan\\endtoendMLProjects\\bostonhousepricing\\venv\\python.exe' requires the ipykernel package.\n",
      "\u001b[1;31mRun the following command to install 'ipykernel' into the Python environment. \n",
      "\u001b[1;31mCommand: 'conda install -p c:\\Users\\Jagmohan.Chauhan\\endtoendMLProjects\\bostonhousepricing\\venv ipykernel --update-deps --force-reinstall'"
     ]
    }
   ],
   "source": [
    "#Train-Test splitting\n",
    "from sklearn.model_selection import train_test_split\n",
    "X_train,X_test,y_train,y_test = train_test_split(X,y,test_size=0.3,random_state=42)"
   ]
  },
  {
   "cell_type": "code",
   "execution_count": null,
   "id": "19028be4",
   "metadata": {},
   "outputs": [
    {
     "ename": "",
     "evalue": "",
     "output_type": "error",
     "traceback": [
      "\u001b[1;31mRunning cells with 'c:\\Users\\Jagmohan.Chauhan\\endtoendMLProjects\\bostonhousepricing\\venv\\python.exe' requires the ipykernel package.\n",
      "\u001b[1;31mRun the following command to install 'ipykernel' into the Python environment. \n",
      "\u001b[1;31mCommand: 'conda install -p c:\\Users\\Jagmohan.Chauhan\\endtoendMLProjects\\bostonhousepricing\\venv ipykernel --update-deps --force-reinstall'"
     ]
    }
   ],
   "source": [
    "X_train"
   ]
  },
  {
   "cell_type": "code",
   "execution_count": null,
   "id": "19be7e36",
   "metadata": {},
   "outputs": [
    {
     "ename": "",
     "evalue": "",
     "output_type": "error",
     "traceback": [
      "\u001b[1;31mRunning cells with 'c:\\Users\\Jagmohan.Chauhan\\endtoendMLProjects\\bostonhousepricing\\venv\\python.exe' requires the ipykernel package.\n",
      "\u001b[1;31mRun the following command to install 'ipykernel' into the Python environment. \n",
      "\u001b[1;31mCommand: 'conda install -p c:\\Users\\Jagmohan.Chauhan\\endtoendMLProjects\\bostonhousepricing\\venv ipykernel --update-deps --force-reinstall'"
     ]
    }
   ],
   "source": [
    "X_test"
   ]
  },
  {
   "cell_type": "code",
   "execution_count": null,
   "id": "e5d56cc8",
   "metadata": {},
   "outputs": [
    {
     "ename": "",
     "evalue": "",
     "output_type": "error",
     "traceback": [
      "\u001b[1;31mRunning cells with 'c:\\Users\\Jagmohan.Chauhan\\endtoendMLProjects\\bostonhousepricing\\venv\\python.exe' requires the ipykernel package.\n",
      "\u001b[1;31mRun the following command to install 'ipykernel' into the Python environment. \n",
      "\u001b[1;31mCommand: 'conda install -p c:\\Users\\Jagmohan.Chauhan\\endtoendMLProjects\\bostonhousepricing\\venv ipykernel --update-deps --force-reinstall'"
     ]
    }
   ],
   "source": [
    "#Standarize the datasets\n",
    "from sklearn.preprocessing import StandardScaler\n",
    "scaler =  StandardScaler()"
   ]
  },
  {
   "cell_type": "code",
   "execution_count": null,
   "id": "be9e004b",
   "metadata": {},
   "outputs": [
    {
     "ename": "",
     "evalue": "",
     "output_type": "error",
     "traceback": [
      "\u001b[1;31mRunning cells with 'c:\\Users\\Jagmohan.Chauhan\\endtoendMLProjects\\bostonhousepricing\\venv\\python.exe' requires the ipykernel package.\n",
      "\u001b[1;31mRun the following command to install 'ipykernel' into the Python environment. \n",
      "\u001b[1;31mCommand: 'conda install -p c:\\Users\\Jagmohan.Chauhan\\endtoendMLProjects\\bostonhousepricing\\venv ipykernel --update-deps --force-reinstall'"
     ]
    }
   ],
   "source": [
    "X_train = scaler.fit_transform(X_train)"
   ]
  },
  {
   "cell_type": "code",
   "execution_count": null,
   "id": "ca66b943",
   "metadata": {},
   "outputs": [
    {
     "ename": "",
     "evalue": "",
     "output_type": "error",
     "traceback": [
      "\u001b[1;31mRunning cells with 'c:\\Users\\Jagmohan.Chauhan\\endtoendMLProjects\\bostonhousepricing\\venv\\python.exe' requires the ipykernel package.\n",
      "\u001b[1;31mRun the following command to install 'ipykernel' into the Python environment. \n",
      "\u001b[1;31mCommand: 'conda install -p c:\\Users\\Jagmohan.Chauhan\\endtoendMLProjects\\bostonhousepricing\\venv ipykernel --update-deps --force-reinstall'"
     ]
    }
   ],
   "source": [
    "X_test = scaler.transform(X_test)"
   ]
  },
  {
   "cell_type": "code",
   "execution_count": null,
   "id": "bd65a44e",
   "metadata": {},
   "outputs": [],
   "source": [
    "import pickle\n",
    "pickle.dump(scaler,open('scaling.pkl','wb'))"
   ]
  },
  {
   "cell_type": "markdown",
   "id": "dc2943cb",
   "metadata": {},
   "source": [
    "## Model Training"
   ]
  },
  {
   "cell_type": "code",
   "execution_count": null,
   "id": "73ec2aa4",
   "metadata": {},
   "outputs": [
    {
     "ename": "",
     "evalue": "",
     "output_type": "error",
     "traceback": [
      "\u001b[1;31mRunning cells with 'c:\\Users\\Jagmohan.Chauhan\\endtoendMLProjects\\bostonhousepricing\\venv\\python.exe' requires the ipykernel package.\n",
      "\u001b[1;31mRun the following command to install 'ipykernel' into the Python environment. \n",
      "\u001b[1;31mCommand: 'conda install -p c:\\Users\\Jagmohan.Chauhan\\endtoendMLProjects\\bostonhousepricing\\venv ipykernel --update-deps --force-reinstall'"
     ]
    }
   ],
   "source": [
    "from sklearn.linear_model import LinearRegression"
   ]
  },
  {
   "cell_type": "code",
   "execution_count": null,
   "id": "e86de7ca",
   "metadata": {},
   "outputs": [
    {
     "ename": "",
     "evalue": "",
     "output_type": "error",
     "traceback": [
      "\u001b[1;31mRunning cells with 'c:\\Users\\Jagmohan.Chauhan\\endtoendMLProjects\\bostonhousepricing\\venv\\python.exe' requires the ipykernel package.\n",
      "\u001b[1;31mRun the following command to install 'ipykernel' into the Python environment. \n",
      "\u001b[1;31mCommand: 'conda install -p c:\\Users\\Jagmohan.Chauhan\\endtoendMLProjects\\bostonhousepricing\\venv ipykernel --update-deps --force-reinstall'"
     ]
    }
   ],
   "source": [
    "regression = LinearRegression()"
   ]
  },
  {
   "cell_type": "code",
   "execution_count": null,
   "id": "f0ebc1bf",
   "metadata": {},
   "outputs": [
    {
     "ename": "",
     "evalue": "",
     "output_type": "error",
     "traceback": [
      "\u001b[1;31mRunning cells with 'c:\\Users\\Jagmohan.Chauhan\\endtoendMLProjects\\bostonhousepricing\\venv\\python.exe' requires the ipykernel package.\n",
      "\u001b[1;31mRun the following command to install 'ipykernel' into the Python environment. \n",
      "\u001b[1;31mCommand: 'conda install -p c:\\Users\\Jagmohan.Chauhan\\endtoendMLProjects\\bostonhousepricing\\venv ipykernel --update-deps --force-reinstall'"
     ]
    }
   ],
   "source": [
    "regression.fit(X_train,y_train)"
   ]
  },
  {
   "cell_type": "code",
   "execution_count": null,
   "id": "ba99a9a6",
   "metadata": {},
   "outputs": [
    {
     "ename": "",
     "evalue": "",
     "output_type": "error",
     "traceback": [
      "\u001b[1;31mRunning cells with 'c:\\Users\\Jagmohan.Chauhan\\endtoendMLProjects\\bostonhousepricing\\venv\\python.exe' requires the ipykernel package.\n",
      "\u001b[1;31mRun the following command to install 'ipykernel' into the Python environment. \n",
      "\u001b[1;31mCommand: 'conda install -p c:\\Users\\Jagmohan.Chauhan\\endtoendMLProjects\\bostonhousepricing\\venv ipykernel --update-deps --force-reinstall'"
     ]
    }
   ],
   "source": [
    "#Print the coefficient and intercept\n",
    "print(\"Coefficient\",regression.coef_)\n",
    "print(\"Intercept\",regression.intercept_)"
   ]
  },
  {
   "cell_type": "code",
   "execution_count": null,
   "id": "8946d388",
   "metadata": {},
   "outputs": [
    {
     "ename": "",
     "evalue": "",
     "output_type": "error",
     "traceback": [
      "\u001b[1;31mRunning cells with 'c:\\Users\\Jagmohan.Chauhan\\endtoendMLProjects\\bostonhousepricing\\venv\\python.exe' requires the ipykernel package.\n",
      "\u001b[1;31mRun the following command to install 'ipykernel' into the Python environment. \n",
      "\u001b[1;31mCommand: 'conda install -p c:\\Users\\Jagmohan.Chauhan\\endtoendMLProjects\\bostonhousepricing\\venv ipykernel --update-deps --force-reinstall'"
     ]
    }
   ],
   "source": [
    "## on which parameters the model has been trained\n",
    "regression.get_params()"
   ]
  },
  {
   "cell_type": "code",
   "execution_count": null,
   "id": "f29238d2",
   "metadata": {},
   "outputs": [
    {
     "ename": "",
     "evalue": "",
     "output_type": "error",
     "traceback": [
      "\u001b[1;31mRunning cells with 'c:\\Users\\Jagmohan.Chauhan\\endtoendMLProjects\\bostonhousepricing\\venv\\python.exe' requires the ipykernel package.\n",
      "\u001b[1;31mRun the following command to install 'ipykernel' into the Python environment. \n",
      "\u001b[1;31mCommand: 'conda install -p c:\\Users\\Jagmohan.Chauhan\\endtoendMLProjects\\bostonhousepricing\\venv ipykernel --update-deps --force-reinstall'"
     ]
    }
   ],
   "source": [
    "#prediction with test data\n",
    "reg_pred = regression.predict(X_test)"
   ]
  },
  {
   "cell_type": "code",
   "execution_count": null,
   "id": "bf918316",
   "metadata": {},
   "outputs": [
    {
     "ename": "",
     "evalue": "",
     "output_type": "error",
     "traceback": [
      "\u001b[1;31mRunning cells with 'c:\\Users\\Jagmohan.Chauhan\\endtoendMLProjects\\bostonhousepricing\\venv\\python.exe' requires the ipykernel package.\n",
      "\u001b[1;31mRun the following command to install 'ipykernel' into the Python environment. \n",
      "\u001b[1;31mCommand: 'conda install -p c:\\Users\\Jagmohan.Chauhan\\endtoendMLProjects\\bostonhousepricing\\venv ipykernel --update-deps --force-reinstall'"
     ]
    }
   ],
   "source": [
    "reg_pred"
   ]
  },
  {
   "cell_type": "markdown",
   "id": "8ea99e4d",
   "metadata": {},
   "source": [
    "## Assumption"
   ]
  },
  {
   "cell_type": "code",
   "execution_count": null,
   "id": "e3b242f8",
   "metadata": {},
   "outputs": [
    {
     "ename": "",
     "evalue": "",
     "output_type": "error",
     "traceback": [
      "\u001b[1;31mRunning cells with 'c:\\Users\\Jagmohan.Chauhan\\endtoendMLProjects\\bostonhousepricing\\venv\\python.exe' requires the ipykernel package.\n",
      "\u001b[1;31mRun the following command to install 'ipykernel' into the Python environment. \n",
      "\u001b[1;31mCommand: 'conda install -p c:\\Users\\Jagmohan.Chauhan\\endtoendMLProjects\\bostonhousepricing\\venv ipykernel --update-deps --force-reinstall'"
     ]
    }
   ],
   "source": [
    "plt.scatter(y_test,reg_pred)\n",
    "plt.xlabel(\"Actual Testing Values\")\n",
    "plt.ylabel(\"Predicted Testing Values\")"
   ]
  },
  {
   "cell_type": "code",
   "execution_count": null,
   "id": "85918081",
   "metadata": {},
   "outputs": [
    {
     "ename": "",
     "evalue": "",
     "output_type": "error",
     "traceback": [
      "\u001b[1;31mRunning cells with 'c:\\Users\\Jagmohan.Chauhan\\endtoendMLProjects\\bostonhousepricing\\venv\\python.exe' requires the ipykernel package.\n",
      "\u001b[1;31mRun the following command to install 'ipykernel' into the Python environment. \n",
      "\u001b[1;31mCommand: 'conda install -p c:\\Users\\Jagmohan.Chauhan\\endtoendMLProjects\\bostonhousepricing\\venv ipykernel --update-deps --force-reinstall'"
     ]
    }
   ],
   "source": [
    "#Residuals\n",
    "residual = y_test-reg_pred"
   ]
  },
  {
   "cell_type": "code",
   "execution_count": null,
   "id": "029fc056",
   "metadata": {},
   "outputs": [
    {
     "ename": "",
     "evalue": "",
     "output_type": "error",
     "traceback": [
      "\u001b[1;31mRunning cells with 'c:\\Users\\Jagmohan.Chauhan\\endtoendMLProjects\\bostonhousepricing\\venv\\python.exe' requires the ipykernel package.\n",
      "\u001b[1;31mRun the following command to install 'ipykernel' into the Python environment. \n",
      "\u001b[1;31mCommand: 'conda install -p c:\\Users\\Jagmohan.Chauhan\\endtoendMLProjects\\bostonhousepricing\\venv ipykernel --update-deps --force-reinstall'"
     ]
    }
   ],
   "source": [
    "residual"
   ]
  },
  {
   "cell_type": "code",
   "execution_count": null,
   "id": "a47ba5d6",
   "metadata": {},
   "outputs": [
    {
     "ename": "",
     "evalue": "",
     "output_type": "error",
     "traceback": [
      "\u001b[1;31mRunning cells with 'c:\\Users\\Jagmohan.Chauhan\\endtoendMLProjects\\bostonhousepricing\\venv\\python.exe' requires the ipykernel package.\n",
      "\u001b[1;31mRun the following command to install 'ipykernel' into the Python environment. \n",
      "\u001b[1;31mCommand: 'conda install -p c:\\Users\\Jagmohan.Chauhan\\endtoendMLProjects\\bostonhousepricing\\venv ipykernel --update-deps --force-reinstall'"
     ]
    }
   ],
   "source": [
    "#Plot the residual\n",
    "sns.displot(residual,kind='kde')"
   ]
  },
  {
   "cell_type": "code",
   "execution_count": null,
   "id": "9a9143f5",
   "metadata": {},
   "outputs": [
    {
     "ename": "",
     "evalue": "",
     "output_type": "error",
     "traceback": [
      "\u001b[1;31mRunning cells with 'c:\\Users\\Jagmohan.Chauhan\\endtoendMLProjects\\bostonhousepricing\\venv\\python.exe' requires the ipykernel package.\n",
      "\u001b[1;31mRun the following command to install 'ipykernel' into the Python environment. \n",
      "\u001b[1;31mCommand: 'conda install -p c:\\Users\\Jagmohan.Chauhan\\endtoendMLProjects\\bostonhousepricing\\venv ipykernel --update-deps --force-reinstall'"
     ]
    }
   ],
   "source": [
    "## Scatter plot with respect to prediction and residuals\n",
    "## uniform distribution\n",
    "plt.scatter(reg_pred,residual)"
   ]
  },
  {
   "cell_type": "markdown",
   "id": "f66d3972",
   "metadata": {},
   "source": [
    "## Performance metrics"
   ]
  },
  {
   "cell_type": "code",
   "execution_count": null,
   "id": "29ef15e7",
   "metadata": {},
   "outputs": [
    {
     "ename": "",
     "evalue": "",
     "output_type": "error",
     "traceback": [
      "\u001b[1;31mRunning cells with 'c:\\Users\\Jagmohan.Chauhan\\endtoendMLProjects\\bostonhousepricing\\venv\\python.exe' requires the ipykernel package.\n",
      "\u001b[1;31mRun the following command to install 'ipykernel' into the Python environment. \n",
      "\u001b[1;31mCommand: 'conda install -p c:\\Users\\Jagmohan.Chauhan\\endtoendMLProjects\\bostonhousepricing\\venv ipykernel --update-deps --force-reinstall'"
     ]
    }
   ],
   "source": [
    "from sklearn.metrics import mean_absolute_error\n",
    "from sklearn.metrics import mean_squared_error\n",
    "\n",
    "print(\"MAE\",mean_absolute_error(y_test,reg_pred))\n",
    "print(\"MSE\",mean_squared_error(y_test,reg_pred))"
   ]
  },
  {
   "cell_type": "code",
   "execution_count": null,
   "id": "6a39a4c2",
   "metadata": {},
   "outputs": [
    {
     "ename": "",
     "evalue": "",
     "output_type": "error",
     "traceback": [
      "\u001b[1;31mRunning cells with 'c:\\Users\\Jagmohan.Chauhan\\endtoendMLProjects\\bostonhousepricing\\venv\\python.exe' requires the ipykernel package.\n",
      "\u001b[1;31mRun the following command to install 'ipykernel' into the Python environment. \n",
      "\u001b[1;31mCommand: 'conda install -p c:\\Users\\Jagmohan.Chauhan\\endtoendMLProjects\\bostonhousepricing\\venv ipykernel --update-deps --force-reinstall'"
     ]
    }
   ],
   "source": [
    "#Root mean square error\n",
    "print(\"RMSE\",np.sqrt(mean_squared_error(y_test,reg_pred)))"
   ]
  },
  {
   "cell_type": "markdown",
   "id": "e49db832",
   "metadata": {},
   "source": [
    "## R-Square & Adjusted R-Square scores"
   ]
  },
  {
   "cell_type": "markdown",
   "id": "a70de369",
   "metadata": {},
   "source": [
    "## Formula:\n",
    "#### R^2 Score = 1 - (SSR/SST)\n",
    "#### Where\n",
    "#### R^2 Score=> Coefficient of determination\n",
    "#### SSR=> Sum of residual\n",
    "#### SST=>Sum of square total"
   ]
  },
  {
   "cell_type": "code",
   "execution_count": null,
   "id": "024a20f9",
   "metadata": {},
   "outputs": [
    {
     "ename": "",
     "evalue": "",
     "output_type": "error",
     "traceback": [
      "\u001b[1;31mRunning cells with 'c:\\Users\\Jagmohan.Chauhan\\endtoendMLProjects\\bostonhousepricing\\venv\\python.exe' requires the ipykernel package.\n",
      "\u001b[1;31mRun the following command to install 'ipykernel' into the Python environment. \n",
      "\u001b[1;31mCommand: 'conda install -p c:\\Users\\Jagmohan.Chauhan\\endtoendMLProjects\\bostonhousepricing\\venv ipykernel --update-deps --force-reinstall'"
     ]
    }
   ],
   "source": [
    "from sklearn.metrics import r2_score\n",
    "score = r2_score(y_test,reg_pred)\n",
    "print(\"R2_Score\",score)"
   ]
  },
  {
   "cell_type": "markdown",
   "id": "a17961b8",
   "metadata": {},
   "source": [
    "## Adjusted R2 = 1 – [(1-R2)*(n-1)/(n-k-1)]**\n",
    "\n",
    "#### where:\n",
    "\n",
    "#### R2: The R2 of the model\n",
    "#### n: The number of observations\n",
    "#### k: The number of predictor variables"
   ]
  },
  {
   "cell_type": "code",
   "execution_count": null,
   "id": "00266177",
   "metadata": {},
   "outputs": [
    {
     "ename": "",
     "evalue": "",
     "output_type": "error",
     "traceback": [
      "\u001b[1;31mRunning cells with 'c:\\Users\\Jagmohan.Chauhan\\endtoendMLProjects\\bostonhousepricing\\venv\\python.exe' requires the ipykernel package.\n",
      "\u001b[1;31mRun the following command to install 'ipykernel' into the Python environment. \n",
      "\u001b[1;31mCommand: 'conda install -p c:\\Users\\Jagmohan.Chauhan\\endtoendMLProjects\\bostonhousepricing\\venv ipykernel --update-deps --force-reinstall'"
     ]
    }
   ],
   "source": [
    "#displaying the adjusted R2 score\n",
    "1-(1-score)*(len(y_test)-1)/(len(y_test)-(X_test.shape[1])-1)"
   ]
  },
  {
   "cell_type": "markdown",
   "id": "173aab97",
   "metadata": {},
   "source": [
    "## New Data Prediction"
   ]
  },
  {
   "cell_type": "code",
   "execution_count": null,
   "id": "afbeefb1",
   "metadata": {},
   "outputs": [
    {
     "ename": "",
     "evalue": "",
     "output_type": "error",
     "traceback": [
      "\u001b[1;31mRunning cells with 'c:\\Users\\Jagmohan.Chauhan\\endtoendMLProjects\\bostonhousepricing\\venv\\python.exe' requires the ipykernel package.\n",
      "\u001b[1;31mRun the following command to install 'ipykernel' into the Python environment. \n",
      "\u001b[1;31mCommand: 'conda install -p c:\\Users\\Jagmohan.Chauhan\\endtoendMLProjects\\bostonhousepricing\\venv ipykernel --update-deps --force-reinstall'"
     ]
    }
   ],
   "source": [
    "boston.data[0]"
   ]
  },
  {
   "cell_type": "code",
   "execution_count": null,
   "id": "68925699",
   "metadata": {},
   "outputs": [
    {
     "ename": "",
     "evalue": "",
     "output_type": "error",
     "traceback": [
      "\u001b[1;31mRunning cells with 'c:\\Users\\Jagmohan.Chauhan\\endtoendMLProjects\\bostonhousepricing\\venv\\python.exe' requires the ipykernel package.\n",
      "\u001b[1;31mRun the following command to install 'ipykernel' into the Python environment. \n",
      "\u001b[1;31mCommand: 'conda install -p c:\\Users\\Jagmohan.Chauhan\\endtoendMLProjects\\bostonhousepricing\\venv ipykernel --update-deps --force-reinstall'"
     ]
    }
   ],
   "source": [
    "boston.data[0].shape"
   ]
  },
  {
   "cell_type": "code",
   "execution_count": null,
   "id": "823364cf",
   "metadata": {},
   "outputs": [
    {
     "ename": "",
     "evalue": "",
     "output_type": "error",
     "traceback": [
      "\u001b[1;31mRunning cells with 'c:\\Users\\Jagmohan.Chauhan\\endtoendMLProjects\\bostonhousepricing\\venv\\python.exe' requires the ipykernel package.\n",
      "\u001b[1;31mRun the following command to install 'ipykernel' into the Python environment. \n",
      "\u001b[1;31mCommand: 'conda install -p c:\\Users\\Jagmohan.Chauhan\\endtoendMLProjects\\bostonhousepricing\\venv ipykernel --update-deps --force-reinstall'"
     ]
    }
   ],
   "source": [
    "boston.data[0].reshape(1,-1).shape"
   ]
  },
  {
   "cell_type": "code",
   "execution_count": null,
   "id": "e82b2dc4",
   "metadata": {},
   "outputs": [
    {
     "ename": "",
     "evalue": "",
     "output_type": "error",
     "traceback": [
      "\u001b[1;31mRunning cells with 'c:\\Users\\Jagmohan.Chauhan\\endtoendMLProjects\\bostonhousepricing\\venv\\python.exe' requires the ipykernel package.\n",
      "\u001b[1;31mRun the following command to install 'ipykernel' into the Python environment. \n",
      "\u001b[1;31mCommand: 'conda install -p c:\\Users\\Jagmohan.Chauhan\\endtoendMLProjects\\bostonhousepricing\\venv ipykernel --update-deps --force-reinstall'"
     ]
    }
   ],
   "source": [
    "regression.predict(boston.data[0].reshape(1,-1))"
   ]
  },
  {
   "cell_type": "markdown",
   "id": "29068dec",
   "metadata": {},
   "source": [
    "## As we can see above that it is showing the -ve value for the price it is because the new test values is not scaled so we have to scale it  and then apply prediction"
   ]
  },
  {
   "cell_type": "code",
   "execution_count": null,
   "id": "a7985e30",
   "metadata": {},
   "outputs": [
    {
     "ename": "",
     "evalue": "",
     "output_type": "error",
     "traceback": [
      "\u001b[1;31mRunning cells with 'c:\\Users\\Jagmohan.Chauhan\\endtoendMLProjects\\bostonhousepricing\\venv\\python.exe' requires the ipykernel package.\n",
      "\u001b[1;31mRun the following command to install 'ipykernel' into the Python environment. \n",
      "\u001b[1;31mCommand: 'conda install -p c:\\Users\\Jagmohan.Chauhan\\endtoendMLProjects\\bostonhousepricing\\venv ipykernel --update-deps --force-reinstall'"
     ]
    }
   ],
   "source": [
    "regression.predict(scaler.transform(boston.data[0].reshape(1,-1)))"
   ]
  },
  {
   "cell_type": "markdown",
   "id": "f993507a",
   "metadata": {},
   "source": [
    "## Pickle the model for deployment"
   ]
  },
  {
   "cell_type": "code",
   "execution_count": null,
   "id": "4af81ec0",
   "metadata": {},
   "outputs": [
    {
     "ename": "",
     "evalue": "",
     "output_type": "error",
     "traceback": [
      "\u001b[1;31mRunning cells with 'c:\\Users\\Jagmohan.Chauhan\\endtoendMLProjects\\bostonhousepricing\\venv\\python.exe' requires the ipykernel package.\n",
      "\u001b[1;31mRun the following command to install 'ipykernel' into the Python environment. \n",
      "\u001b[1;31mCommand: 'conda install -p c:\\Users\\Jagmohan.Chauhan\\endtoendMLProjects\\bostonhousepricing\\venv ipykernel --update-deps --force-reinstall'"
     ]
    }
   ],
   "source": [
    "import pickle"
   ]
  },
  {
   "cell_type": "code",
   "execution_count": null,
   "id": "36e7be7b",
   "metadata": {},
   "outputs": [
    {
     "ename": "",
     "evalue": "",
     "output_type": "error",
     "traceback": [
      "\u001b[1;31mRunning cells with 'c:\\Users\\Jagmohan.Chauhan\\endtoendMLProjects\\bostonhousepricing\\venv\\python.exe' requires the ipykernel package.\n",
      "\u001b[1;31mRun the following command to install 'ipykernel' into the Python environment. \n",
      "\u001b[1;31mCommand: 'conda install -p c:\\Users\\Jagmohan.Chauhan\\endtoendMLProjects\\bostonhousepricing\\venv ipykernel --update-deps --force-reinstall'"
     ]
    }
   ],
   "source": [
    "pickle.dump(regression,open(\"regmodel.pkl\",\"wb\"))"
   ]
  },
  {
   "cell_type": "code",
   "execution_count": null,
   "id": "0896047f",
   "metadata": {},
   "outputs": [
    {
     "ename": "",
     "evalue": "",
     "output_type": "error",
     "traceback": [
      "\u001b[1;31mRunning cells with 'c:\\Users\\Jagmohan.Chauhan\\endtoendMLProjects\\bostonhousepricing\\venv\\python.exe' requires the ipykernel package.\n",
      "\u001b[1;31mRun the following command to install 'ipykernel' into the Python environment. \n",
      "\u001b[1;31mCommand: 'conda install -p c:\\Users\\Jagmohan.Chauhan\\endtoendMLProjects\\bostonhousepricing\\venv ipykernel --update-deps --force-reinstall'"
     ]
    }
   ],
   "source": [
    "pickle_model = pickle.load(open(\"regmodel.pkl\",'rb'))"
   ]
  },
  {
   "cell_type": "code",
   "execution_count": null,
   "id": "dbff03ec",
   "metadata": {},
   "outputs": [
    {
     "ename": "",
     "evalue": "",
     "output_type": "error",
     "traceback": [
      "\u001b[1;31mRunning cells with 'c:\\Users\\Jagmohan.Chauhan\\endtoendMLProjects\\bostonhousepricing\\venv\\python.exe' requires the ipykernel package.\n",
      "\u001b[1;31mRun the following command to install 'ipykernel' into the Python environment. \n",
      "\u001b[1;31mCommand: 'conda install -p c:\\Users\\Jagmohan.Chauhan\\endtoendMLProjects\\bostonhousepricing\\venv ipykernel --update-deps --force-reinstall'"
     ]
    }
   ],
   "source": [
    "pickle_model.predict(scaler.transform(boston.data[0].reshape(1,-1)))"
   ]
  },
  {
   "cell_type": "code",
   "execution_count": null,
   "id": "088a0c7a",
   "metadata": {},
   "outputs": [
    {
     "ename": "",
     "evalue": "",
     "output_type": "error",
     "traceback": [
      "\u001b[1;31mRunning cells with 'c:\\Users\\Jagmohan.Chauhan\\endtoendMLProjects\\bostonhousepricing\\venv\\python.exe' requires the ipykernel package.\n",
      "\u001b[1;31mRun the following command to install 'ipykernel' into the Python environment. \n",
      "\u001b[1;31mCommand: 'conda install -p c:\\Users\\Jagmohan.Chauhan\\endtoendMLProjects\\bostonhousepricing\\venv ipykernel --update-deps --force-reinstall'"
     ]
    }
   ],
   "source": []
  }
 ],
 "metadata": {
  "kernelspec": {
   "display_name": "Python 3 (ipykernel)",
   "language": "python",
   "name": "python3"
  },
  "language_info": {
   "codemirror_mode": {
    "name": "ipython",
    "version": 3
   },
   "file_extension": ".py",
   "mimetype": "text/x-python",
   "name": "python",
   "nbconvert_exporter": "python",
   "pygments_lexer": "ipython3",
   "version": "3.7.0"
  }
 },
 "nbformat": 4,
 "nbformat_minor": 5
}
